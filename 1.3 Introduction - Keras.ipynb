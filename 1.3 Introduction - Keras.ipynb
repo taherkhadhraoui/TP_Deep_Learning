{
 "cells": [
  {
   "cell_type": "code",
   "execution_count": 1,
   "metadata": {
    "collapsed": true
   },
   "outputs": [],
   "source": [
    "%matplotlib inline"
   ]
  },
  {
   "cell_type": "code",
   "execution_count": 2,
   "metadata": {
    "collapsed": false
   },
   "outputs": [
    {
     "name": "stderr",
     "output_type": "stream",
     "text": [
      "Using TensorFlow backend.\n"
     ]
    }
   ],
   "source": [
    "import numpy as np\n",
    "import pandas as pd\n",
    "import theano\n",
    "import theano.tensor as T\n",
    "import matplotlib.pyplot as plt\n",
    "import keras \n",
    "from sklearn.preprocessing import StandardScaler\n",
    "from sklearn.preprocessing import LabelEncoder \n",
    "from keras.utils import np_utils\n",
    "from sklearn.cross_validation import train_test_split\n",
    "from keras.callbacks import EarlyStopping, ModelCheckpoint\n",
    "from keras.models import Sequential\n",
    "from keras.layers import Dense, Activation"
   ]
  },
  {
   "cell_type": "markdown",
   "metadata": {},
   "source": [
    "For this section we will use the Kaggle otto challenge.\n",
    "If you want to follow, Get the data from Kaggle: https://www.kaggle.com/c/otto-group-product-classification-challenge/data"
   ]
  },
  {
   "cell_type": "markdown",
   "metadata": {},
   "source": [
    "#### About the data"
   ]
  },
  {
   "cell_type": "markdown",
   "metadata": {},
   "source": [
    "The Otto Group is one of the world’s biggest e-commerce companies, A consistent analysis of the performance of products is crucial. However, due to diverse global infrastructure, many identical products get classified differently.\n",
    "For this competition, we have provided a dataset with 93 features for more than 200,000 products. The objective is to build a predictive model which is able to distinguish between our main product categories. \n",
    "Each row corresponds to a single product. There are a total of 93 numerical features, which represent counts of different events. All features have been obfuscated and will not be defined any further.\n",
    "\n",
    "https://www.kaggle.com/c/otto-group-product-classification-challenge/data"
   ]
  },
  {
   "cell_type": "code",
   "execution_count": 3,
   "metadata": {
    "collapsed": true
   },
   "outputs": [],
   "source": [
    "def load_data(path, train=True):\n",
    "    \"\"\"Load data from a CSV File\n",
    "    \n",
    "    Parameters\n",
    "    ----------\n",
    "    path: str\n",
    "        The path to the CSV file\n",
    "        \n",
    "    train: bool (default True)\n",
    "        Decide whether or not data are *training data*.\n",
    "        If True, some random shuffling is applied.\n",
    "        \n",
    "    Return\n",
    "    ------\n",
    "    X: numpy.ndarray \n",
    "        The data as a multi dimensional array of floats\n",
    "    ids: numpy.ndarray\n",
    "        A vector of ids for each sample\n",
    "    \"\"\"\n",
    "    df = pd.read_csv(path)\n",
    "    X = df.values.copy()\n",
    "    if train:\n",
    "        np.random.shuffle(X)  # https://youtu.be/uyUXoap67N8\n",
    "        X, labels = X[:, 1:-1].astype(np.float32), X[:, -1]\n",
    "        return X, labels\n",
    "    else:\n",
    "        X, ids = X[:, 1:].astype(np.float32), X[:, 0].astype(str)\n",
    "        return X, ids"
   ]
  },
  {
   "cell_type": "code",
   "execution_count": 6,
   "metadata": {
    "collapsed": true
   },
   "outputs": [],
   "source": [
    "def preprocess_data(X, scaler=None):\n",
    "    \"\"\"Preprocess input data by standardise features \n",
    "    by removing the mean and scaling to unit variance\"\"\"\n",
    "    if not scaler:\n",
    "        scaler = StandardScaler()\n",
    "        scaler.fit(X)\n",
    "    X = scaler.transform(X)\n",
    "    return X, scaler\n",
    "\n",
    "\n",
    "def preprocess_labels(labels, encoder=None, categorical=True):\n",
    "    \"\"\"Encode labels with values among 0 and `n-classes-1`\"\"\"\n",
    "    if not encoder:\n",
    "        encoder = LabelEncoder()\n",
    "        encoder.fit(labels)\n",
    "    y = encoder.transform(labels).astype(np.int32)\n",
    "    if categorical:\n",
    "        y = np_utils.to_categorical(y)\n",
    "    return y, encoder"
   ]
  },
  {
   "cell_type": "code",
   "execution_count": 5,
   "metadata": {
    "collapsed": false
   },
   "outputs": [
    {
     "ename": "NameError",
     "evalue": "name 'X' is not defined",
     "output_type": "error",
     "traceback": [
      "\u001b[0;31m---------------------------------------------------------------------------\u001b[0m",
      "\u001b[0;31mNameError\u001b[0m                                 Traceback (most recent call last)",
      "\u001b[0;32m<ipython-input-5-be42e23181e8>\u001b[0m in \u001b[0;36m<module>\u001b[0;34m()\u001b[0m\n\u001b[0;32m----> 1\u001b[0;31m \u001b[0mX_orig\u001b[0m \u001b[0;34m=\u001b[0m \u001b[0mX\u001b[0m\u001b[0;34m.\u001b[0m\u001b[0mcopy\u001b[0m\u001b[0;34m(\u001b[0m\u001b[0;34m)\u001b[0m\u001b[0;34m\u001b[0m\u001b[0m\n\u001b[0m",
      "\u001b[0;31mNameError\u001b[0m: name 'X' is not defined"
     ]
    }
   ],
   "source": []
  },
  {
   "cell_type": "code",
   "execution_count": 7,
   "metadata": {
    "collapsed": false
   },
   "outputs": [
    {
     "name": "stdout",
     "output_type": "stream",
     "text": [
      "Loading data...\n",
      "[[  0.   0.   0.   0.   0.   0.   0.   0.   0.   3.   0.   0.   0.   3.\n",
      "    2.   1.   0.   0.   0.   0.   0.   0.   0.   5.   3.   1.   1.   0.\n",
      "    0.   0.   0.   0.   1.   0.   0.   1.   0.   1.   0.   1.   0.   0.\n",
      "    0.   0.   0.   0.   0.   0.   0.   0.   0.   0.   0.   0.   0.   0.\n",
      "    0.   0.   0.   0.   0.   0.   0.   3.   0.   0.   0.   0.   1.   1.\n",
      "    0.   1.   0.   0.   0.   0.   0.   0.   0.   0.   0.   0.   0.   0.\n",
      "    0.  11.   1.  20.   0.   0.   0.   0.   0.]]\n",
      "9 classes\n",
      "93 dims\n"
     ]
    }
   ],
   "source": [
    "print(\"Loading data...\")\n",
    "X, labels = load_data('/home/ubuntu/deep-learning-keras-tensorflow/data/train.csv', train=True)\n",
    "X_orig = X.copy()\n",
    "X, scaler = preprocess_data(X)\n",
    "Y, encoder = preprocess_labels(labels)\n",
    "\n",
    "\n",
    "X_test, ids = load_data('/home/ubuntu/deep-learning-keras-tensorflow/data/test.csv', train=False)\n",
    "X_test, ids = X_test[:1000], ids[:1000]\n",
    "\n",
    "#Plotting the data\n",
    "print(X_test[:1])\n",
    "\n",
    "X_test, _ = preprocess_data(X_test, scaler)\n",
    "\n",
    "\n",
    "nb_classes = Y.shape[1]\n",
    "print(nb_classes, 'classes')\n",
    "\n",
    "dims = X.shape[1]\n",
    "print(dims, 'dims')"
   ]
  },
  {
   "cell_type": "code",
   "execution_count": 8,
   "metadata": {
    "collapsed": false
   },
   "outputs": [
    {
     "data": {
      "text/plain": [
       "array([[ 0.,  0.,  0., ...,  0.,  0.,  0.],\n",
       "       [ 0.,  0.,  1., ...,  0.,  3.,  0.],\n",
       "       [ 0.,  0.,  0., ...,  0.,  1.,  0.],\n",
       "       ..., \n",
       "       [ 0.,  0.,  0., ...,  0.,  0.,  1.],\n",
       "       [ 0.,  0.,  0., ...,  0.,  5.,  0.],\n",
       "       [ 0.,  0.,  9., ...,  0.,  1.,  0.]], dtype=float32)"
      ]
     },
     "execution_count": 8,
     "metadata": {},
     "output_type": "execute_result"
    }
   ],
   "source": [
    "X_orig"
   ]
  },
  {
   "cell_type": "code",
   "execution_count": 11,
   "metadata": {
    "collapsed": false
   },
   "outputs": [
    {
     "data": {
      "text/plain": [
       "0.99998945"
      ]
     },
     "execution_count": 11,
     "metadata": {},
     "output_type": "execute_result"
    }
   ],
   "source": [
    "np.std(X)"
   ]
  },
  {
   "cell_type": "markdown",
   "metadata": {},
   "source": [
    "Now lets create and train a logistic regression model."
   ]
  },
  {
   "cell_type": "markdown",
   "metadata": {},
   "source": [
    "---"
   ]
  },
  {
   "cell_type": "markdown",
   "metadata": {},
   "source": [
    "# Keras\n",
    "\n",
    "## Deep Learning library for Theano and TensorFlow"
   ]
  },
  {
   "cell_type": "markdown",
   "metadata": {},
   "source": [
    "Keras is a minimalist, highly modular neural networks library, written in Python and capable of running on top of either TensorFlow or Theano. It was developed with a focus on enabling fast experimentation. Being able to go from idea to result with the least possible delay is key to doing good research.\n",
    "ref: https://keras.io/"
   ]
  },
  {
   "cell_type": "markdown",
   "metadata": {},
   "source": [
    "## Why this name, Keras?\n",
    "\n",
    "Keras (κέρας) means _horn_ in Greek. It is a reference to a literary image from ancient Greek and Latin literature, first found in the _Odyssey_, where dream spirits (_Oneiroi_, singular _Oneiros_) are divided between those who deceive men with false visions, who arrive to Earth through a gate of ivory, and those who announce a future that will come to pass, who arrive through a gate of horn. It's a play on the words κέρας (horn) / κραίνω (fulfill), and ἐλέφας (ivory) / ἐλεφαίρομαι (deceive).\n",
    "\n",
    "Keras was initially developed as part of the research effort of project ONEIROS (Open-ended Neuro-Electronic Intelligent Robot Operating System).\n",
    "\n",
    ">_\"Oneiroi are beyond our unravelling --who can be sure what tale they tell? Not all that men look for comes to pass. Two gates there are that give passage to fleeting Oneiroi; one is made of horn, one of ivory. The Oneiroi that pass through sawn ivory are deceitful, bearing a message that will not be fulfilled; those that come out through polished horn have truth behind them, to be accomplished for men who see them.\"_ Homer, Odyssey 19. 562 ff (Shewring translation)."
   ]
  },
  {
   "cell_type": "markdown",
   "metadata": {},
   "source": [
    "## Hands On - Keras Logistic Regression\n"
   ]
  },
  {
   "cell_type": "code",
   "execution_count": 6,
   "metadata": {
    "collapsed": false
   },
   "outputs": [
    {
     "name": "stdout",
     "output_type": "stream",
     "text": [
      "93 dims\n",
      "Building model...\n",
      "9 classes\n",
      "Epoch 1/1\n",
      "61878/61878 [==============================] - 2s 30us/step - loss: 1.0424\n"
     ]
    },
    {
     "data": {
      "text/plain": [
       "<keras.callbacks.History at 0x7f333766bbe0>"
      ]
     },
     "execution_count": 6,
     "metadata": {},
     "output_type": "execute_result"
    }
   ],
   "source": [
    "dims = X.shape[1] #number of features in our data  - 93\n",
    "print(dims, 'dims')\n",
    "print(\"Building model...\")\n",
    "\n",
    "nb_classes = Y.shape[1] #number of classes in our data - 9\n",
    "print(nb_classes, 'classes')\n",
    "\n",
    "model = Sequential() #intialize a model\n",
    "model.add(Dense(nb_classes, input_shape=(dims,))) #add a fully connected layer with 9 neurons\n",
    "model.add(Activation('softmax')) #add softmax activation\n",
    "\n",
    "model.compile(optimizer='sgd', loss='categorical_crossentropy') #add the sgd optimizer to optimize our model \n",
    "model.fit(X, Y) #start optimizing "
   ]
  },
  {
   "cell_type": "code",
   "execution_count": 7,
   "metadata": {
    "collapsed": true
   },
   "outputs": [],
   "source": [
    "train_predictions = model.predict(X).argmax(axis=1)"
   ]
  },
  {
   "cell_type": "code",
   "execution_count": 8,
   "metadata": {
    "collapsed": false
   },
   "outputs": [
    {
     "name": "stdout",
     "output_type": "stream",
     "text": [
      "train accuracy is 0.7260738873266751\n"
     ]
    }
   ],
   "source": [
    "print('train accuracy is {0}'.format(sum(Y.argmax(axis=1)==train_predictions)/train_predictions.shape[0]))"
   ]
  },
  {
   "cell_type": "markdown",
   "metadata": {},
   "source": [
    "Simplicity is pretty impressive right? :)"
   ]
  },
  {
   "cell_type": "markdown",
   "metadata": {},
   "source": [
    "Now lets understand:\n",
    "<pre>The core data structure of Keras is a <b>model</b>, a way to organize layers. The main type of model is the <b>Sequential</b> model, a linear stack of layers.</pre>\n"
   ]
  },
  {
   "cell_type": "markdown",
   "metadata": {},
   "source": [
    "What we did here is stacking a Fully Connected (<b>Dense</b>) layer of trainable weights from the input to the output and an <b>Activation</b> layer on top of the weights layer."
   ]
  },
  {
   "cell_type": "markdown",
   "metadata": {},
   "source": [
    "##### Dense"
   ]
  },
  {
   "cell_type": "markdown",
   "metadata": {
    "collapsed": true
   },
   "source": [
    "```python\n",
    "from keras.layers.core import Dense\n",
    "\n",
    "Dense(output_dim, init='glorot_uniform', activation='linear', \n",
    "      weights=None, W_regularizer=None, b_regularizer=None,\n",
    "      activity_regularizer=None, W_constraint=None, \n",
    "      b_constraint=None, bias=True, input_dim=None)\n",
    "```"
   ]
  },
  {
   "cell_type": "markdown",
   "metadata": {},
   "source": [
    "##### Activation"
   ]
  },
  {
   "cell_type": "markdown",
   "metadata": {
    "collapsed": true
   },
   "source": [
    "```python\n",
    "from keras.layers.core import Activation\n",
    "\n",
    "Activation(activation)\n",
    "```"
   ]
  },
  {
   "cell_type": "markdown",
   "metadata": {},
   "source": [
    "##### Optimizer"
   ]
  },
  {
   "cell_type": "markdown",
   "metadata": {},
   "source": [
    "If you need to, you can further configure your optimizer. A core principle of Keras is to make things reasonably simple, while allowing the user to be fully in control when they need to (the ultimate control being the easy extensibility of the source code).\n",
    "Here we used <b>SGD</b> (stochastic gradient descent) as an optimization algorithm for our trainable weights.  "
   ]
  },
  {
   "cell_type": "markdown",
   "metadata": {},
   "source": [
    "\"Data Sciencing\" this example a little bit more\n",
    "====="
   ]
  },
  {
   "cell_type": "markdown",
   "metadata": {},
   "source": [
    "What we did here is nice, however in the real world it is not useable because of overfitting.\n",
    "Lets try and solve it with cross validation."
   ]
  },
  {
   "cell_type": "markdown",
   "metadata": {},
   "source": [
    "##### Overfitting"
   ]
  },
  {
   "cell_type": "markdown",
   "metadata": {},
   "source": [
    "In overfitting, a statistical model describes random error or noise instead of the underlying relationship. Overfitting occurs when a model is excessively complex, such as having too many parameters relative to the number of observations. \n",
    "\n",
    "A model that has been overfit has poor predictive performance, as it overreacts to minor fluctuations in the training data."
   ]
  },
  {
   "cell_type": "markdown",
   "metadata": {},
   "source": [
    "\n",
    "<img src =\"imgs/overfitting.png\">"
   ]
  },
  {
   "cell_type": "markdown",
   "metadata": {},
   "source": [
    "<pre>To avoid overfitting, we will first split out data to training set and test set and test out model on the test set.\n",
    "Next: we will use two of keras's callbacks <b>EarlyStopping</b> and <b>ModelCheckpoint</b></pre>"
   ]
  },
  {
   "cell_type": "code",
   "execution_count": 9,
   "metadata": {
    "collapsed": false,
    "scrolled": false
   },
   "outputs": [
    {
     "name": "stdout",
     "output_type": "stream",
     "text": [
      "Train on 52596 samples, validate on 9282 samples\n",
      "Epoch 1/20\n",
      "13824/52596 [======>.......................] - ETA: 0s - loss: 0.8194"
     ]
    },
    {
     "name": "stderr",
     "output_type": "stream",
     "text": [
      "/home/ubuntu/anaconda2/envs/deep-learning/lib/python3.5/site-packages/keras/models.py:939: UserWarning: The `nb_epoch` argument in `fit` has been renamed `epochs`.\n",
      "  warnings.warn('The `nb_epoch` argument in `fit` '\n"
     ]
    },
    {
     "name": "stdout",
     "output_type": "stream",
     "text": [
      "52596/52596 [==============================] - 1s 13us/step - loss: 0.8019 - val_loss: 0.7711\n",
      "Epoch 2/20\n",
      "52596/52596 [==============================] - 1s 12us/step - loss: 0.7834 - val_loss: 0.7549\n",
      "Epoch 3/20\n",
      "52596/52596 [==============================] - 1s 12us/step - loss: 0.7691 - val_loss: 0.7421\n",
      "Epoch 4/20\n",
      "52596/52596 [==============================] - 1s 13us/step - loss: 0.7577 - val_loss: 0.7316\n",
      "Epoch 5/20\n",
      "52596/52596 [==============================] - 1s 12us/step - loss: 0.7484 - val_loss: 0.7226\n",
      "Epoch 6/20\n",
      "52596/52596 [==============================] - 1s 12us/step - loss: 0.7405 - val_loss: 0.7152\n",
      "Epoch 7/20\n",
      "52596/52596 [==============================] - 1s 11us/step - loss: 0.7338 - val_loss: 0.7086\n",
      "Epoch 8/20\n",
      "52596/52596 [==============================] - 1s 11us/step - loss: 0.7279 - val_loss: 0.7027\n",
      "Epoch 9/20\n",
      "52596/52596 [==============================] - 1s 11us/step - loss: 0.7229 - val_loss: 0.6980\n",
      "Epoch 10/20\n",
      "52596/52596 [==============================] - 1s 11us/step - loss: 0.7183 - val_loss: 0.6936\n",
      "Epoch 11/20\n",
      "52596/52596 [==============================] - 1s 11us/step - loss: 0.7143 - val_loss: 0.6895\n",
      "Epoch 12/20\n",
      "52596/52596 [==============================] - 1s 11us/step - loss: 0.7106 - val_loss: 0.6860\n",
      "Epoch 13/20\n",
      "52596/52596 [==============================] - 1s 11us/step - loss: 0.7073 - val_loss: 0.6831\n",
      "Epoch 14/20\n",
      "52596/52596 [==============================] - 1s 11us/step - loss: 0.7044 - val_loss: 0.6800\n",
      "Epoch 15/20\n",
      "52596/52596 [==============================] - 1s 11us/step - loss: 0.7016 - val_loss: 0.6774\n",
      "Epoch 16/20\n",
      "52596/52596 [==============================] - 1s 11us/step - loss: 0.6991 - val_loss: 0.6746\n",
      "Epoch 17/20\n",
      "52596/52596 [==============================] - 1s 10us/step - loss: 0.6967 - val_loss: 0.6724\n",
      "Epoch 18/20\n",
      "52596/52596 [==============================] - 1s 11us/step - loss: 0.6946 - val_loss: 0.6704\n",
      "Epoch 19/20\n",
      "52596/52596 [==============================] - 1s 11us/step - loss: 0.6925 - val_loss: 0.6684\n",
      "Epoch 20/20\n",
      "52596/52596 [==============================] - 1s 11us/step - loss: 0.6906 - val_loss: 0.6669\n"
     ]
    },
    {
     "data": {
      "text/plain": [
       "<keras.callbacks.History at 0x7f33376880f0>"
      ]
     },
     "execution_count": 9,
     "metadata": {},
     "output_type": "execute_result"
    }
   ],
   "source": [
    "X_train, X_val, Y_train, Y_val = train_test_split(X, Y, test_size=0.15, random_state=42)\n",
    "\n",
    "fBestModel = 'best_model.h5' \n",
    "early_stop = EarlyStopping(monitor='val_loss', patience=4, verbose=1) \n",
    "best_model = ModelCheckpoint(fBestModel, verbose=0, save_best_only=True)\n",
    "\n",
    "model.fit(X_train, Y_train, validation_data = (X_val, Y_val), nb_epoch=20, \n",
    "          batch_size=128, verbose=True, validation_split=0.15, \n",
    "          callbacks=[best_model, early_stop])"
   ]
  },
  {
   "cell_type": "code",
   "execution_count": 10,
   "metadata": {
    "collapsed": false
   },
   "outputs": [
    {
     "name": "stdout",
     "output_type": "stream",
     "text": [
      "train accuracy is 0.7491444216290212\n"
     ]
    }
   ],
   "source": [
    "train_predictions = model.predict(X_train).argmax(axis=1)\n",
    "print('train accuracy is {0}'.format(sum(Y_train.argmax(axis=1)==train_predictions)/train_predictions.shape[0]))"
   ]
  },
  {
   "cell_type": "code",
   "execution_count": 11,
   "metadata": {
    "collapsed": false
   },
   "outputs": [
    {
     "name": "stdout",
     "output_type": "stream",
     "text": [
      "test accuracy is 0.7557638439991381\n"
     ]
    }
   ],
   "source": [
    "val_predictions = model.predict(X_val).argmax(axis=1)\n",
    "print('test accuracy is {0}'.format(sum(Y_val.argmax(axis=1)==val_predictions)/val_predictions.shape[0]))"
   ]
  },
  {
   "cell_type": "markdown",
   "metadata": {},
   "source": [
    "## Multi-Layer Perceptron and Fully Connected"
   ]
  },
  {
   "cell_type": "markdown",
   "metadata": {},
   "source": [
    "So, how hard can it be to build a Multi-Layer percepton with keras?\n",
    "It is baiscly the same, just add more layers!"
   ]
  },
  {
   "cell_type": "code",
   "execution_count": 12,
   "metadata": {
    "collapsed": false
   },
   "outputs": [
    {
     "name": "stderr",
     "output_type": "stream",
     "text": [
      "/home/ubuntu/anaconda2/envs/deep-learning/lib/python3.5/site-packages/keras/models.py:939: UserWarning: The `nb_epoch` argument in `fit` has been renamed `epochs`.\n",
      "  warnings.warn('The `nb_epoch` argument in `fit` '\n"
     ]
    },
    {
     "name": "stdout",
     "output_type": "stream",
     "text": [
      "Train on 52596 samples, validate on 9282 samples\n",
      "Epoch 1/20\n",
      "52596/52596 [==============================] - 1s 19us/step - loss: 1.1997 - val_loss: 0.8781\n",
      "Epoch 2/20\n",
      "52596/52596 [==============================] - 1s 16us/step - loss: 0.8304 - val_loss: 0.7738\n",
      "Epoch 3/20\n",
      "52596/52596 [==============================] - 1s 19us/step - loss: 0.7672 - val_loss: 0.7297\n",
      "Epoch 4/20\n",
      "52596/52596 [==============================] - 1s 15us/step - loss: 0.7354 - val_loss: 0.7046\n",
      "Epoch 5/20\n",
      "52596/52596 [==============================] - 1s 14us/step - loss: 0.7160 - val_loss: 0.6879\n",
      "Epoch 6/20\n",
      "52596/52596 [==============================] - 1s 14us/step - loss: 0.7028 - val_loss: 0.6755\n",
      "Epoch 7/20\n",
      "52596/52596 [==============================] - 1s 14us/step - loss: 0.6933 - val_loss: 0.6673\n",
      "Epoch 8/20\n",
      "52596/52596 [==============================] - 1s 14us/step - loss: 0.6859 - val_loss: 0.6602\n",
      "Epoch 9/20\n",
      "52596/52596 [==============================] - 1s 14us/step - loss: 0.6802 - val_loss: 0.6555\n",
      "Epoch 10/20\n",
      "52596/52596 [==============================] - 1s 14us/step - loss: 0.6757 - val_loss: 0.6517\n",
      "Epoch 11/20\n",
      "52596/52596 [==============================] - 1s 14us/step - loss: 0.6719 - val_loss: 0.6474\n",
      "Epoch 12/20\n",
      "52596/52596 [==============================] - 1s 14us/step - loss: 0.6687 - val_loss: 0.6447\n",
      "Epoch 13/20\n",
      "52596/52596 [==============================] - 1s 14us/step - loss: 0.6658 - val_loss: 0.6418\n",
      "Epoch 14/20\n",
      "52596/52596 [==============================] - 1s 14us/step - loss: 0.6634 - val_loss: 0.6397\n",
      "Epoch 15/20\n",
      "52596/52596 [==============================] - 1s 14us/step - loss: 0.6613 - val_loss: 0.6376\n",
      "Epoch 16/20\n",
      "52596/52596 [==============================] - 1s 14us/step - loss: 0.6593 - val_loss: 0.6367\n",
      "Epoch 17/20\n",
      "52596/52596 [==============================] - 1s 13us/step - loss: 0.6576 - val_loss: 0.6341\n",
      "Epoch 18/20\n",
      "52596/52596 [==============================] - 1s 15us/step - loss: 0.6561 - val_loss: 0.6336\n",
      "Epoch 19/20\n",
      "52596/52596 [==============================] - 1s 14us/step - loss: 0.6547 - val_loss: 0.6320\n",
      "Epoch 20/20\n",
      "52596/52596 [==============================] - 1s 15us/step - loss: 0.6535 - val_loss: 0.6305\n"
     ]
    },
    {
     "data": {
      "text/plain": [
       "<keras.callbacks.History at 0x7f332a69f208>"
      ]
     },
     "execution_count": 12,
     "metadata": {},
     "output_type": "execute_result"
    }
   ],
   "source": [
    "model = Sequential()\n",
    "model.add(Dense(100, input_shape=(dims,)))\n",
    "model.add(Dense(nb_classes))\n",
    "model.add(Activation('softmax'))\n",
    "model.compile(optimizer='sgd', loss='categorical_crossentropy')\n",
    "model.fit(X_train, Y_train, validation_data = (X_val, Y_val), nb_epoch=20, \n",
    "          batch_size=128, verbose=True, validation_split=0.15, \n",
    "          callbacks=[best_model, early_stop]) "
   ]
  },
  {
   "cell_type": "code",
   "execution_count": 13,
   "metadata": {
    "collapsed": false
   },
   "outputs": [
    {
     "name": "stdout",
     "output_type": "stream",
     "text": [
      "train accuracy is 0.7587649250893604\n"
     ]
    }
   ],
   "source": [
    "train_predictions = model.predict(X_train).argmax(axis=1)\n",
    "print('train accuracy is {0}'.format(sum(Y_train.argmax(axis=1)==train_predictions)/train_predictions.shape[0]))"
   ]
  },
  {
   "cell_type": "code",
   "execution_count": 14,
   "metadata": {
    "collapsed": false
   },
   "outputs": [
    {
     "name": "stdout",
     "output_type": "stream",
     "text": [
      "test accuracy is 0.7670760611937083\n"
     ]
    }
   ],
   "source": [
    "val_predictions = model.predict(X_val).argmax(axis=1)\n",
    "print('test accuracy is {0}'.format(sum(Y_val.argmax(axis=1)==val_predictions)/val_predictions.shape[0]))"
   ]
  },
  {
   "cell_type": "markdown",
   "metadata": {},
   "source": [
    "Your Turn!"
   ]
  },
  {
   "cell_type": "markdown",
   "metadata": {},
   "source": [
    "## Hands On - Keras Fully Connected\n"
   ]
  },
  {
   "cell_type": "markdown",
   "metadata": {},
   "source": [
    "Take couple of minutes and Try and optimize the number of layers and the number of parameters in the layers to get the best results. "
   ]
  },
  {
   "cell_type": "code",
   "execution_count": 16,
   "metadata": {
    "collapsed": false,
    "scrolled": false
   },
   "outputs": [
    {
     "name": "stderr",
     "output_type": "stream",
     "text": [
      "/home/ubuntu/anaconda2/envs/deep-learning/lib/python3.5/site-packages/keras/models.py:939: UserWarning: The `nb_epoch` argument in `fit` has been renamed `epochs`.\n",
      "  warnings.warn('The `nb_epoch` argument in `fit` '\n"
     ]
    },
    {
     "name": "stdout",
     "output_type": "stream",
     "text": [
      "Train on 52596 samples, validate on 9282 samples\n",
      "Epoch 1/50\n",
      "52596/52596 [==============================] - 6s 108us/step - loss: 0.8818 - val_loss: 0.7093\n",
      "Epoch 2/50\n",
      "52596/52596 [==============================] - 5s 97us/step - loss: 0.7131 - val_loss: 0.6717\n",
      "Epoch 3/50\n",
      "52596/52596 [==============================] - 5s 102us/step - loss: 0.6871 - val_loss: 0.6597\n",
      "Epoch 4/50\n",
      "52596/52596 [==============================] - 6s 105us/step - loss: 0.6753 - val_loss: 0.6488\n",
      "Epoch 5/50\n",
      "52596/52596 [==============================] - 5s 87us/step - loss: 0.6669 - val_loss: 0.6400\n",
      "Epoch 6/50\n",
      "52596/52596 [==============================] - 5s 97us/step - loss: 0.6634 - val_loss: 0.6355\n",
      "Epoch 7/50\n",
      "52596/52596 [==============================] - 5s 87us/step - loss: 0.6596 - val_loss: 0.6359\n",
      "Epoch 8/50\n",
      "52596/52596 [==============================] - 6s 106us/step - loss: 0.6567 - val_loss: 0.6336\n",
      "Epoch 9/50\n",
      "52596/52596 [==============================] - 5s 99us/step - loss: 0.6561 - val_loss: 0.6367\n",
      "Epoch 10/50\n",
      "52596/52596 [==============================] - 5s 104us/step - loss: 0.6536 - val_loss: 0.6275\n",
      "Epoch 11/50\n",
      "52596/52596 [==============================] - 5s 103us/step - loss: 0.6519 - val_loss: 0.6287\n",
      "Epoch 12/50\n",
      "52596/52596 [==============================] - 5s 101us/step - loss: 0.6509 - val_loss: 0.6252\n",
      "Epoch 13/50\n",
      "52596/52596 [==============================] - 5s 102us/step - loss: 0.6493 - val_loss: 0.6305\n",
      "Epoch 14/50\n",
      "52596/52596 [==============================] - 7s 125us/step - loss: 0.6485 - val_loss: 0.6249\n",
      "Epoch 15/50\n",
      "52596/52596 [==============================] - 5s 101us/step - loss: 0.6474 - val_loss: 0.6261\n",
      "Epoch 16/50\n",
      "52596/52596 [==============================] - 6s 109us/step - loss: 0.6475 - val_loss: 0.6320\n",
      "Epoch 17/50\n",
      "52596/52596 [==============================] - 6s 119us/step - loss: 0.6468 - val_loss: 0.6234\n",
      "Epoch 18/50\n",
      "52596/52596 [==============================] - 6s 110us/step - loss: 0.6460 - val_loss: 0.6251\n",
      "Epoch 19/50\n",
      "52596/52596 [==============================] - 5s 103us/step - loss: 0.6459 - val_loss: 0.6196\n",
      "Epoch 20/50\n",
      "52596/52596 [==============================] - 5s 95us/step - loss: 0.6448 - val_loss: 0.6222\n",
      "Epoch 21/50\n",
      "52596/52596 [==============================] - 5s 102us/step - loss: 0.6450 - val_loss: 0.6238\n",
      "Epoch 22/50\n",
      "52596/52596 [==============================] - 6s 105us/step - loss: 0.6433 - val_loss: 0.6241\n",
      "Epoch 23/50\n",
      "52596/52596 [==============================] - 5s 97us/step - loss: 0.6442 - val_loss: 0.6225\n",
      "Epoch 00023: early stopping\n"
     ]
    },
    {
     "data": {
      "text/plain": [
       "<keras.callbacks.History at 0x7f332a2f1c88>"
      ]
     },
     "execution_count": 16,
     "metadata": {},
     "output_type": "execute_result"
    }
   ],
   "source": [
    "model = Sequential()\n",
    "model.add(Dense(100, input_shape=(dims,)))\n",
    "# Play with it! add as much layers as you want! try and get better results.\n",
    "model.add(Dense(100))\n",
    "model.add(Dense(512))\n",
    "model.add(Dense(512))\n",
    "model.add(Dense(100))\n",
    "model.add(Dense(nb_classes))\n",
    "\n",
    "model.add(Activation('softmax'))\n",
    "\n",
    "model.compile(optimizer='sgd', loss='categorical_crossentropy')\n",
    "\n",
    "model.fit(X_train, Y_train, validation_data = (X_val, Y_val), nb_epoch=50, \n",
    "          batch_size=128, verbose=True, validation_split=0.15, \n",
    "          callbacks=[best_model, early_stop]) "
   ]
  },
  {
   "cell_type": "code",
   "execution_count": 17,
   "metadata": {
    "collapsed": false
   },
   "outputs": [
    {
     "name": "stdout",
     "output_type": "stream",
     "text": [
      "train accuracy is 0.7642134522770613\n"
     ]
    }
   ],
   "source": [
    "train_predictions = model.predict(X).argmax(axis=1)\n",
    "print('train accuracy is {0}'.format(sum(Y.argmax(axis=1)==train_predictions)/train_predictions.shape[0]))"
   ]
  },
  {
   "cell_type": "code",
   "execution_count": 18,
   "metadata": {
    "collapsed": false
   },
   "outputs": [
    {
     "name": "stdout",
     "output_type": "stream",
     "text": [
      "test accuracy is 0.7693385046326223\n"
     ]
    }
   ],
   "source": [
    "val_predictions = model.predict(X_val).argmax(axis=1)\n",
    "print('test accuracy is {0}'.format(sum(Y_val.argmax(axis=1)==val_predictions)/val_predictions.shape[0]))"
   ]
  },
  {
   "cell_type": "markdown",
   "metadata": {},
   "source": [
    "### Let's overfit it"
   ]
  },
  {
   "cell_type": "code",
   "execution_count": 19,
   "metadata": {
    "collapsed": false
   },
   "outputs": [
    {
     "name": "stderr",
     "output_type": "stream",
     "text": [
      "/home/ubuntu/anaconda2/envs/deep-learning/lib/python3.5/site-packages/keras/models.py:939: UserWarning: The `nb_epoch` argument in `fit` has been renamed `epochs`.\n",
      "  warnings.warn('The `nb_epoch` argument in `fit` '\n"
     ]
    },
    {
     "name": "stdout",
     "output_type": "stream",
     "text": [
      "Train on 52596 samples, validate on 9282 samples\n",
      "Epoch 1/30\n",
      "52596/52596 [==============================] - 15s 287us/step - loss: 0.7898 - val_loss: 0.6634\n",
      "Epoch 2/30\n",
      "52596/52596 [==============================] - 15s 286us/step - loss: 0.6838 - val_loss: 0.6432\n",
      "Epoch 3/30\n",
      "52596/52596 [==============================] - 15s 283us/step - loss: 0.6698 - val_loss: 0.6380\n",
      "Epoch 4/30\n",
      "52596/52596 [==============================] - 15s 285us/step - loss: 0.6650 - val_loss: 0.6396\n",
      "Epoch 5/30\n",
      "52596/52596 [==============================] - 15s 290us/step - loss: 0.6611 - val_loss: 0.6320\n",
      "Epoch 6/30\n",
      "52596/52596 [==============================] - 16s 295us/step - loss: 0.6584 - val_loss: 0.6292\n",
      "Epoch 7/30\n",
      "52596/52596 [==============================] - 15s 285us/step - loss: 0.6567 - val_loss: 0.6305\n",
      "Epoch 8/30\n",
      "52596/52596 [==============================] - 16s 295us/step - loss: 0.6551 - val_loss: 0.6276\n",
      "Epoch 9/30\n",
      "52596/52596 [==============================] - 16s 311us/step - loss: 0.6535 - val_loss: 0.6267\n",
      "Epoch 10/30\n",
      "52596/52596 [==============================] - 18s 345us/step - loss: 0.6525 - val_loss: 0.6335\n",
      "Epoch 11/30\n",
      "52596/52596 [==============================] - 15s 294us/step - loss: 0.6520 - val_loss: 0.6233\n",
      "Epoch 12/30\n",
      "52596/52596 [==============================] - 17s 320us/step - loss: 0.6504 - val_loss: 0.6248\n",
      "Epoch 13/30\n",
      "52596/52596 [==============================] - 15s 286us/step - loss: 0.6491 - val_loss: 0.6301\n",
      "Epoch 14/30\n",
      "52596/52596 [==============================] - 15s 288us/step - loss: 0.6482 - val_loss: 0.6214\n",
      "Epoch 15/30\n",
      "52596/52596 [==============================] - 18s 349us/step - loss: 0.6485 - val_loss: 0.6198\n",
      "Epoch 16/30\n",
      "52596/52596 [==============================] - 18s 335us/step - loss: 0.6467 - val_loss: 0.6231\n",
      "Epoch 17/30\n",
      "52596/52596 [==============================] - 15s 291us/step - loss: 0.6465 - val_loss: 0.6214\n",
      "Epoch 18/30\n",
      "52596/52596 [==============================] - 15s 291us/step - loss: 0.6458 - val_loss: 0.6219\n",
      "Epoch 19/30\n",
      "52596/52596 [==============================] - 17s 314us/step - loss: 0.6464 - val_loss: 0.6216\n",
      "Epoch 20/30\n",
      "52596/52596 [==============================] - 15s 290us/step - loss: 0.6451 - val_loss: 0.6221\n",
      "Epoch 21/30\n",
      "52596/52596 [==============================] - 15s 292us/step - loss: 0.6452 - val_loss: 0.6222\n",
      "Epoch 22/30\n",
      "52596/52596 [==============================] - 20s 388us/step - loss: 0.6448 - val_loss: 0.6239\n",
      "Epoch 23/30\n",
      "52596/52596 [==============================] - 18s 338us/step - loss: 0.6444 - val_loss: 0.6194\n",
      "Epoch 24/30\n",
      "52596/52596 [==============================] - 15s 290us/step - loss: 0.6441 - val_loss: 0.6189\n",
      "Epoch 25/30\n",
      "52596/52596 [==============================] - 18s 334us/step - loss: 0.6443 - val_loss: 0.6170\n",
      "Epoch 26/30\n",
      "52596/52596 [==============================] - 16s 298us/step - loss: 0.6439 - val_loss: 0.6202\n",
      "Epoch 27/30\n",
      "52596/52596 [==============================] - 16s 296us/step - loss: 0.6427 - val_loss: 0.6186\n",
      "Epoch 28/30\n",
      "52596/52596 [==============================] - 18s 345us/step - loss: 0.6431 - val_loss: 0.6206\n",
      "Epoch 29/30\n",
      "52596/52596 [==============================] - 16s 308us/step - loss: 0.6429 - val_loss: 0.6186\n",
      "Epoch 30/30\n",
      "52596/52596 [==============================] - 19s 364us/step - loss: 0.6429 - val_loss: 0.6217\n"
     ]
    }
   ],
   "source": [
    "model = Sequential()\n",
    "model.add(Dense(512, input_shape=(dims,)))\n",
    "# Play with it! add as much layers as you want! try and get better results.\n",
    "model.add(Dense(512))\n",
    "model.add(Dense(512))\n",
    "model.add(Dense(512))\n",
    "model.add(Dense(512))\n",
    "model.add(Dense(512))\n",
    "model.add(Dense(nb_classes))\n",
    "\n",
    "model.add(Activation('softmax'))\n",
    "model.compile(optimizer='sgd', loss='categorical_crossentropy')\n",
    "history = model.fit(X_train, Y_train, validation_data = (X_val, Y_val), nb_epoch=30, \n",
    "          batch_size=128, verbose=True, validation_split=0.15, ) "
   ]
  },
  {
   "cell_type": "code",
   "execution_count": 20,
   "metadata": {
    "collapsed": false
   },
   "outputs": [
    {
     "data": {
      "text/plain": [
       "<matplotlib.legend.Legend at 0x7f3329c16780>"
      ]
     },
     "execution_count": 20,
     "metadata": {},
     "output_type": "execute_result"
    },
    {
     "data": {
      "image/png": "[encoded data removed]",
      "text/plain": [
       "<matplotlib.figure.Figure at 0x7f332a368588>"
      ]
     },
     "metadata": {},
     "output_type": "display_data"
    }
   ],
   "source": [
    "plt.plot(history.history['loss'])\n",
    "plt.plot(history.history['val_loss'])\n",
    "plt.title('model accuracy')\n",
    "plt.ylabel('accuracy')\n",
    "plt.xlabel('epoch')\n",
    "plt.legend(['train', 'test'], loc='upper left')"
   ]
  },
  {
   "cell_type": "markdown",
   "metadata": {},
   "source": [
    "Building a question answering system, an image classification model, a Neural Turing Machine, a word2vec embedder or any other model is just as fast. The ideas behind deep learning are simple, so why should their implementation be painful?"
   ]
  },
  {
   "cell_type": "markdown",
   "metadata": {},
   "source": [
    "#### Theoretical Motivations for depth"
   ]
  },
  {
   "cell_type": "markdown",
   "metadata": {},
   "source": [
    ">Much has been studied about the depth of neural nets. Is has been proven mathematically[1] and empirically that convolutional neural network benifit from depth! "
   ]
  },
  {
   "cell_type": "markdown",
   "metadata": {},
   "source": [
    "[1] - On the Expressive Power of Deep Learning: A Tensor Analysis - Cohen, et al 2015"
   ]
  },
  {
   "cell_type": "markdown",
   "metadata": {},
   "source": [
    "#### Theoretical Motivations for depth"
   ]
  },
  {
   "cell_type": "markdown",
   "metadata": {},
   "source": [
    "One much quoted theorem about neural network states that:"
   ]
  },
  {
   "cell_type": "markdown",
   "metadata": {},
   "source": [
    ">Universal approximation theorem states[1] that a feed-forward network with a single hidden layer containing a finite number of neurons (i.e., a multilayer perceptron), can approximate continuous functions on compact subsets of $\\mathbb{R}^n$, under mild assumptions on the activation function. The theorem thus states that simple neural networks can represent a wide variety of interesting functions when given appropriate parameters; however, it does not touch upon the algorithmic learnability of those parameters."
   ]
  },
  {
   "cell_type": "markdown",
   "metadata": {},
   "source": [
    "[1] - Approximation Capabilities of Multilayer Feedforward Networks - Kurt Hornik 1991"
   ]
  },
  {
   "cell_type": "code",
   "execution_count": null,
   "metadata": {
    "collapsed": true
   },
   "outputs": [],
   "source": []
  },
  {
   "cell_type": "code",
   "execution_count": null,
   "metadata": {
    "collapsed": true
   },
   "outputs": [],
   "source": []
  },
  {
   "cell_type": "code",
   "execution_count": null,
   "metadata": {
    "collapsed": true
   },
   "outputs": [],
   "source": []
  },
  {
   "cell_type": "code",
   "execution_count": null,
   "metadata": {
    "collapsed": true
   },
   "outputs": [],
   "source": []
  }
 ],
 "metadata": {
  "anaconda-cloud": {},
  "kernelspec": {
   "display_name": "Python 3",
   "language": "python",
   "name": "python3"
  },
  "language_info": {
   "codemirror_mode": {
    "name": "ipython",
    "version": 3
   },
   "file_extension": ".py",
   "mimetype": "text/x-python",
   "name": "python",
   "nbconvert_exporter": "python",
   "pygments_lexer": "ipython3",
   "version": "3.5.2"
  }
 },
 "nbformat": 4,
 "nbformat_minor": 1
}
